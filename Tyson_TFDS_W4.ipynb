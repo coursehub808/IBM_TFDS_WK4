{
  "metadata": {
    "language_info": {
      "codemirror_mode": {
        "name": "python",
        "version": 3
      },
      "file_extension": ".py",
      "mimetype": "text/x-python",
      "name": "python",
      "nbconvert_exporter": "python",
      "pygments_lexer": "ipython3",
      "version": "3.8"
    },
    "kernelspec": {
      "name": "python",
      "display_name": "Pyolite",
      "language": "python"
    }
  },
  "nbformat_minor": 4,
  "nbformat": 4,
  "cells": [
    {
      "cell_type": "markdown",
      "source": "# My Jupyter Notebook on IBM Watson Studio",
      "metadata": {}
    },
    {
      "cell_type": "markdown",
      "source": "**Tyson** <br>\nChief of Operations",
      "metadata": {}
    },
    {
      "cell_type": "markdown",
      "source": "*I am interested in data science because I want to be able to gather, process, and analyze large amounts of data to determine market trends. This skill will benefit both my curent position and my future endeavors assisting with researching education and remote job opportunities in rural areas.*",
      "metadata": {}
    },
    {
      "cell_type": "markdown",
      "source": "### My code, located in cell number 5, will execute the multiplication of 12 by 12.",
      "metadata": {}
    },
    {
      "cell_type": "code",
      "source": "12*12",
      "metadata": {
        "trusted": true
      },
      "execution_count": 5,
      "outputs": [
        {
          "execution_count": 5,
          "output_type": "execute_result",
          "data": {
            "text/plain": "144"
          },
          "metadata": {}
        }
      ]
    },
    {
      "cell_type": "markdown",
      "source": "\n\n1. Numbered Item 1\n2. Numbered Item 2\n3. Numbered Item 3\n\n- List Item 1\n- List Item 2\n- List Item 3\n\n[Link to YouTube](https://www.youtube.com)\n\n~~STRIKETHROUGH~~\n\n![Picture of a Platypus](https://www.thoughtco.com/thmb/J6_Z1nLDnBZSyi6fs1qLwq38voo=/768x0/filters:no_upscale():max_bytes(150000):strip_icc():format(webp)/GettyImages-635477020-14202280a8714a179f5850decf0d254e.jpg)\n\n\n",
      "metadata": {}
    },
    {
      "cell_type": "code",
      "source": "",
      "metadata": {},
      "execution_count": null,
      "outputs": []
    }
  ]
}